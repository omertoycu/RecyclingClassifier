{
 "cells": [
  {
   "cell_type": "code",
   "execution_count": 41,
   "id": "2cb8f935-714b-49bb-a3b8-8771a8ba40f1",
   "metadata": {},
   "outputs": [
    {
     "name": "stdout",
     "output_type": "stream",
     "text": [
      "Kullanılan cihaz: cuda\n"
     ]
    }
   ],
   "source": [
    "import os\n",
    "import torch\n",
    "from torch import nn, optim\n",
    "from torch.utils.data import DataLoader, random_split\n",
    "from torchvision import datasets, transforms, models\n",
    "\n",
    "# Cihaz seçimi: GPU varsa GPU kullan, yoksa CPU\n",
    "device = torch.device(\"cuda\" if torch.cuda.is_available() else \"cpu\")\n",
    "print(\"Kullanılan cihaz:\", device)\n"
   ]
  },
  {
   "cell_type": "code",
   "execution_count": 43,
   "id": "da40d945-9344-4647-b9ec-2b30c5524f5a",
   "metadata": {},
   "outputs": [],
   "source": [
    "data_dir = r\"C:\\Users\\omerf\\OneDrive\\Masaüstü\\garbage_classification\"\n",
    "batch_size = 32\n",
    "num_workers = 0  # Windows/Jupyter'da 0 güvenli\n",
    "epochs = 10\n",
    "learning_rate = 1e-4"
   ]
  },
  {
   "cell_type": "code",
   "execution_count": 45,
   "id": "55952d72-fae4-4550-8873-6b559d1c6f73",
   "metadata": {},
   "outputs": [],
   "source": [
    "# Eğitim için veri artırma\n",
    "train_transform = transforms.Compose([\n",
    "    transforms.Resize((224, 224)),\n",
    "    transforms.RandomHorizontalFlip(),\n",
    "    transforms.RandomRotation(15),\n",
    "    transforms.ColorJitter(brightness=0.2, contrast=0.2, saturation=0.2, hue=0.1),\n",
    "    transforms.ToTensor(),\n",
    "    transforms.Normalize([0.485, 0.456, 0.406],\n",
    "                         [0.229, 0.224, 0.225])\n",
    "])\n",
    "\n",
    "# Doğrulama için sadece boyut ve normalize\n",
    "val_transform = transforms.Compose([\n",
    "    transforms.Resize((224, 224)),\n",
    "    transforms.ToTensor(),\n",
    "    transforms.Normalize([0.485, 0.456, 0.406],\n",
    "                         [0.229, 0.224, 0.225])\n",
    "])\n"
   ]
  },
  {
   "cell_type": "code",
   "execution_count": 47,
   "id": "2723ac24-5b11-400d-9c7f-ef0c262f78a5",
   "metadata": {},
   "outputs": [
    {
     "name": "stdout",
     "output_type": "stream",
     "text": [
      "Sınıflar: ['battery', 'biological', 'brown-glass', 'cardboard', 'clothes', 'green-glass', 'metal', 'paper', 'plastic', 'shoes', 'trash', 'white-glass']\n"
     ]
    }
   ],
   "source": [
    "# ImageFolder, her klasörü bir sınıf olarak alır\n",
    "full_dataset = datasets.ImageFolder(root=data_dir, transform=train_transform)\n",
    "\n",
    "# %80 train, %20 validation\n",
    "train_size = int(0.8 * len(full_dataset))\n",
    "val_size   = len(full_dataset) - train_size\n",
    "train_ds, val_ds = random_split(full_dataset, [train_size, val_size])\n",
    "\n",
    "# Val transform'u override\n",
    "val_ds.dataset.transform = val_transform\n",
    "\n",
    "train_loader = DataLoader(train_ds, batch_size=batch_size,\n",
    "                          shuffle=True, num_workers=num_workers)\n",
    "val_loader   = DataLoader(val_ds, batch_size=batch_size,\n",
    "                          shuffle=False, num_workers=num_workers)\n",
    "\n",
    "print(\"Sınıflar:\", full_dataset.classes)\n"
   ]
  },
  {
   "cell_type": "code",
   "execution_count": 49,
   "id": "9f45e3ec-6328-495a-b87d-956ea2d37526",
   "metadata": {},
   "outputs": [],
   "source": [
    "# Önceden eğitilmiş ResNet18\n",
    "model = models.resnet18(weights=models.ResNet18_Weights.DEFAULT)\n",
    "\n",
    "# Son katmanı 12 sınıfa göre değiştir\n",
    "model.fc = nn.Linear(model.fc.in_features, len(full_dataset.classes))\n",
    "model = model.to(device)\n"
   ]
  },
  {
   "cell_type": "code",
   "execution_count": 51,
   "id": "4dabef50-a53f-42b7-bf9a-df9f3c075997",
   "metadata": {},
   "outputs": [],
   "source": [
    "criterion = nn.CrossEntropyLoss()  # sınıflandırma için uygun\n",
    "optimizer = optim.Adam(model.parameters(), lr=learning_rate)"
   ]
  },
  {
   "cell_type": "code",
   "execution_count": 53,
   "id": "518f0d55-9fc6-4248-ac5f-4e8aeec41924",
   "metadata": {},
   "outputs": [
    {
     "name": "stdout",
     "output_type": "stream",
     "text": [
      "Epoch 1/10 - Loss: 0.3347 - Val Acc: 0.9397\n",
      "Epoch 2/10 - Loss: 0.0856 - Val Acc: 0.9610\n",
      "Epoch 3/10 - Loss: 0.0410 - Val Acc: 0.9649\n",
      "Epoch 4/10 - Loss: 0.0259 - Val Acc: 0.9552\n",
      "Epoch 5/10 - Loss: 0.0210 - Val Acc: 0.9549\n",
      "Epoch 6/10 - Loss: 0.0358 - Val Acc: 0.9568\n",
      "Epoch 7/10 - Loss: 0.0270 - Val Acc: 0.9575\n",
      "Epoch 8/10 - Loss: 0.0161 - Val Acc: 0.9662\n",
      "Epoch 9/10 - Loss: 0.0203 - Val Acc: 0.9536\n",
      "Epoch 10/10 - Loss: 0.0198 - Val Acc: 0.9488\n"
     ]
    }
   ],
   "source": [
    "for epoch in range(1, epochs + 1):\n",
    "    model.train()\n",
    "    running_loss = 0.0\n",
    "\n",
    "    for images, labels in train_loader:\n",
    "        images, labels = images.to(device), labels.to(device)\n",
    "\n",
    "        optimizer.zero_grad()   # önceki gradyanları sıfırla\n",
    "        outputs = model(images)\n",
    "        loss = criterion(outputs, labels)\n",
    "        loss.backward()         # gradyanları hesapla\n",
    "        optimizer.step()        # ağırlıkları güncelle\n",
    "\n",
    "        running_loss += loss.item() * images.size(0)\n",
    "\n",
    "    # Doğrulama\n",
    "    model.eval()\n",
    "    correct, total = 0, 0\n",
    "    with torch.no_grad():\n",
    "        for images, labels in val_loader:\n",
    "            images, labels = images.to(device), labels.to(device)\n",
    "            outputs = model(images)\n",
    "            _, preds = torch.max(outputs, 1)\n",
    "            correct += (preds == labels).sum().item()\n",
    "            total += labels.size(0)\n",
    "\n",
    "    val_acc = correct / total\n",
    "    epoch_loss = running_loss / len(train_loader.dataset)\n",
    "\n",
    "    print(f\"Epoch {epoch}/{epochs} - Loss: {epoch_loss:.4f} - Val Acc: {val_acc:.4f}\")\n"
   ]
  },
  {
   "cell_type": "code",
   "execution_count": 55,
   "id": "a70ff409-2b88-4ba3-811d-12e9e6b4ca2b",
   "metadata": {},
   "outputs": [
    {
     "name": "stdout",
     "output_type": "stream",
     "text": [
      "Model kaydedildi: garbage_resnet18.pth\n"
     ]
    }
   ],
   "source": [
    "torch.save(model.state_dict(), \"garbage_resnet18.pth\")\n",
    "print(\"Model kaydedildi: garbage_resnet18.pth\")"
   ]
  },
  {
   "cell_type": "code",
   "execution_count": 67,
   "id": "df4fad13-bdd3-425a-9b34-4fea3d1a2afc",
   "metadata": {},
   "outputs": [
    {
     "name": "stdout",
     "output_type": "stream",
     "text": [
      "Tahmin edilen sınıf: biological\n"
     ]
    }
   ],
   "source": [
    "from PIL import Image\n",
    "import torchvision.transforms as transforms\n",
    "\n",
    "# Örnek resim yolu\n",
    "img_path = r\"C:\\Users\\omerf\\OneDrive\\Masaüstü\\bio.jpg\"\n",
    "image = Image.open(img_path)\n",
    "\n",
    "# Transform uygulama (train augment değil, sadece resize+normalize)\n",
    "transform = transforms.Compose([\n",
    "    transforms.Resize((224, 224)),\n",
    "    transforms.ToTensor(),\n",
    "    transforms.Normalize([0.485, 0.456, 0.406],\n",
    "                         [0.229, 0.224, 0.225])\n",
    "])\n",
    "image = transform(image).unsqueeze(0).to(device)  # batch dimension ekle\n",
    "\n",
    "# Modeli yükleme\n",
    "model = models.resnet18(weights=None)\n",
    "model.fc = nn.Linear(model.fc.in_features, 12)\n",
    "model.load_state_dict(torch.load(\"garbage_resnet18.pth\", map_location=device))\n",
    "model.to(device)\n",
    "model.eval()\n",
    "\n",
    "# Tahmin\n",
    "with torch.no_grad():\n",
    "    output = model(image)\n",
    "    _, pred = torch.max(output, 1)\n",
    "    \n",
    "classes = full_dataset.classes  # 12 sınıf listesi\n",
    "print(\"Tahmin edilen sınıf:\", classes[pred.item()])\n"
   ]
  },
  {
   "cell_type": "code",
   "execution_count": null,
   "id": "78428a27-b034-4add-bf3a-ec8ca63044a3",
   "metadata": {},
   "outputs": [],
   "source": []
  }
 ],
 "metadata": {
  "kernelspec": {
   "display_name": "Python 3 (ipykernel)",
   "language": "python",
   "name": "python3"
  },
  "language_info": {
   "codemirror_mode": {
    "name": "ipython",
    "version": 3
   },
   "file_extension": ".py",
   "mimetype": "text/x-python",
   "name": "python",
   "nbconvert_exporter": "python",
   "pygments_lexer": "ipython3",
   "version": "3.12.4"
  }
 },
 "nbformat": 4,
 "nbformat_minor": 5
}
